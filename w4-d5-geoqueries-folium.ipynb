{
 "cells": [
  {
   "cell_type": "code",
   "execution_count": 15,
   "metadata": {},
   "outputs": [],
   "source": [
    "from pymongo import MongoClient"
   ]
  },
  {
   "cell_type": "code",
   "execution_count": 16,
   "metadata": {},
   "outputs": [],
   "source": [
    "def connectCollection(database, collection):\n",
    "    client = MongoClient()\n",
    "    db = client[database]\n",
    "    coll = db[collection]\n",
    "    return db, coll"
   ]
  },
  {
   "cell_type": "code",
   "execution_count": 17,
   "metadata": {},
   "outputs": [],
   "source": [
    "db, coll = connectCollection('datamad1019','restaurants')"
   ]
  },
  {
   "cell_type": "code",
   "execution_count": 18,
   "metadata": {},
   "outputs": [],
   "source": [
    "rest = list(coll.find({'name':\"Wendy'S\"}))"
   ]
  },
  {
   "cell_type": "code",
   "execution_count": 19,
   "metadata": {},
   "outputs": [
    {
     "name": "stdout",
     "output_type": "stream",
     "text": [
      "41\n"
     ]
    }
   ],
   "source": [
    "print(len(rest))"
   ]
  },
  {
   "cell_type": "code",
   "execution_count": 20,
   "metadata": {},
   "outputs": [
    {
     "data": {
      "text/plain": [
       "{'building': '469',\n",
       " 'coord': [{'$numberDouble': '-73.961704'}, {'$numberDouble': '40.662942'}],\n",
       " 'street': 'Flatbush Avenue',\n",
       " 'zipcode': '11225'}"
      ]
     },
     "execution_count": 20,
     "metadata": {},
     "output_type": "execute_result"
    }
   ],
   "source": [
    "rest[0]['address']"
   ]
  },
  {
   "cell_type": "markdown",
   "metadata": {},
   "source": [
    "## GeoJSON\n",
    "\n",
    "{ type: \"Point\", coordinates: [ 40, 5 ] }"
   ]
  },
  {
   "cell_type": "code",
   "execution_count": 21,
   "metadata": {},
   "outputs": [],
   "source": [
    "def getLocation(wendy):\n",
    "    longitude = wendy['address']['coord'][0]['$numberDouble']\n",
    "    latitude = wendy['address']['coord'][1]['$numberDouble']\n",
    "    loc = {\n",
    "        'type':'Point',\n",
    "        'coordinates':[float(longitude), float(latitude)]\n",
    "    }\n",
    "    return loc"
   ]
  },
  {
   "cell_type": "code",
   "execution_count": 22,
   "metadata": {},
   "outputs": [
    {
     "data": {
      "text/plain": [
       "{'type': 'Point', 'coordinates': [-73.961704, 40.662942]}"
      ]
     },
     "execution_count": 22,
     "metadata": {},
     "output_type": "execute_result"
    }
   ],
   "source": [
    "getLocation(rest[0])"
   ]
  },
  {
   "cell_type": "code",
   "execution_count": 23,
   "metadata": {},
   "outputs": [],
   "source": [
    "for wendy in rest:\n",
    "    value = {\"$set\": {'location':getLocation(wendy)}}\n",
    "    coll.update_one(wendy,value)\n",
    "    # <collection>.update_one(<document>,<value>)"
   ]
  },
  {
   "cell_type": "code",
   "execution_count": 38,
   "metadata": {},
   "outputs": [],
   "source": [
    "for wendy in rest:\n",
    "    value = {\"$unset\": {'address.coord':''}}\n",
    "    coll.update_one(wendy,value)\n",
    "    # <collection>.update_one(<document>,<value>)"
   ]
  },
  {
   "cell_type": "code",
   "execution_count": 24,
   "metadata": {},
   "outputs": [
    {
     "data": {
      "text/plain": [
       "{'_id': ObjectId('5dce93c47ee6b896adfa9b6a'),\n",
       " 'address': {'building': '469',\n",
       "  'coord': [{'$numberDouble': '-73.961704'}, {'$numberDouble': '40.662942'}],\n",
       "  'street': 'Flatbush Avenue',\n",
       "  'zipcode': '11225'},\n",
       " 'borough': 'Brooklyn',\n",
       " 'cuisine': 'Hamburgers',\n",
       " 'grades': [{'date': datetime.datetime(2014, 12, 30, 0, 0),\n",
       "   'grade': 'A',\n",
       "   'score': 8},\n",
       "  {'date': datetime.datetime(2014, 7, 1, 0, 0), 'grade': 'B', 'score': 23},\n",
       "  {'date': datetime.datetime(2013, 4, 30, 0, 0), 'grade': 'A', 'score': 12},\n",
       "  {'date': datetime.datetime(2012, 5, 8, 0, 0), 'grade': 'A', 'score': 12}],\n",
       " 'name': \"Wendy'S\",\n",
       " 'restaurant_id': '30112340',\n",
       " 'location': {'type': 'Point', 'coordinates': [-73.961704, 40.662942]}}"
      ]
     },
     "execution_count": 24,
     "metadata": {},
     "output_type": "execute_result"
    }
   ],
   "source": [
    "rest = list(coll.find({'name':\"Wendy'S\"}))\n",
    "rest[0]"
   ]
  },
  {
   "cell_type": "code",
   "execution_count": 33,
   "metadata": {},
   "outputs": [],
   "source": [
    "manhattanWendys = coll.find(\n",
    "    {\"location\":\n",
    "     {\"$near\":\n",
    "      {\"$geometry\":\n",
    "       {\"type\":\"Point\",\n",
    "        \"coordinates\":[-73.9712,40.7831]\n",
    "       },\n",
    "       \"$maxDistance\":10000\n",
    "      }\n",
    "     }\n",
    "    }\n",
    ")\n",
    "manhattanWendys=list(manhattanWendys)"
   ]
  },
  {
   "cell_type": "code",
   "execution_count": 34,
   "metadata": {},
   "outputs": [],
   "source": [
    "manhattanWendysAnillo = coll.find(\n",
    "    {\"location\":\n",
    "     {\"$near\":\n",
    "      {\"$geometry\":\n",
    "       {\"type\":\"Point\",\n",
    "        \"coordinates\":[-73.9712,40.7831]\n",
    "       },\n",
    "       \"$maxDistance\":10000,\n",
    "       \"$minDistance\":5000\n",
    "      }\n",
    "     }\n",
    "    }\n",
    ")\n",
    "manhattanWendysAnillo=list(manhattanWendysAnillo)"
   ]
  },
  {
   "cell_type": "code",
   "execution_count": 35,
   "metadata": {},
   "outputs": [
    {
     "data": {
      "text/plain": [
       "(14, 9)"
      ]
     },
     "execution_count": 35,
     "metadata": {},
     "output_type": "execute_result"
    }
   ],
   "source": [
    "len(manhattanWendys),len(manhattanWendysAnillo)"
   ]
  },
  {
   "cell_type": "code",
   "execution_count": 36,
   "metadata": {},
   "outputs": [],
   "source": [
    "import folium"
   ]
  },
  {
   "cell_type": "code",
   "execution_count": 72,
   "metadata": {},
   "outputs": [],
   "source": [
    "map_city=folium.Map(location=[40.7221,-73.9712], zoom_start=12)\n",
    "for wendy in manhattanWendys:\n",
    "    folium.Marker(wendy['location']['coordinates'][::-1],\n",
    "                    radius=2,\n",
    "                    icon=folium.Icon(icon='cloud',color='red'), \n",
    "                   ).add_to(map_city)\n",
    "    \n",
    "for wendy in manhattanWendys[:5]:\n",
    "    folium.Marker(wendy['location']['coordinates'][::-1],\n",
    "                    radius=2,\n",
    "                    icon=folium.Icon(icon='cloud',color='blue'), \n",
    "                   ).add_to(map_city)"
   ]
  },
  {
   "cell_type": "code",
   "execution_count": 73,
   "metadata": {
    "scrolled": true
   },
   "outputs": [
    {
     "data": {
      "text/html": [
       "<div style=\"width:100%;\"><div style=\"position:relative;width:100%;height:0;padding-bottom:60%;\"><iframe src=\"data:text/html;charset=utf-8;base64,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\" style=\"position:absolute;width:100%;height:100%;left:0;top:0;border:none !important;\" allowfullscreen webkitallowfullscreen mozallowfullscreen></iframe></div></div>"
      ],
      "text/plain": [
       "<folium.folium.Map at 0x7fdc9a190250>"
      ]
     },
     "execution_count": 73,
     "metadata": {},
     "output_type": "execute_result"
    }
   ],
   "source": [
    "map_city"
   ]
  },
  {
   "cell_type": "code",
   "execution_count": null,
   "metadata": {},
   "outputs": [],
   "source": []
  }
 ],
 "metadata": {
  "kernelspec": {
   "display_name": "Python 3",
   "language": "python",
   "name": "python3"
  },
  "language_info": {
   "codemirror_mode": {
    "name": "ipython",
    "version": 3
   },
   "file_extension": ".py",
   "mimetype": "text/x-python",
   "name": "python",
   "nbconvert_exporter": "python",
   "pygments_lexer": "ipython3",
   "version": "3.7.4"
  }
 },
 "nbformat": 4,
 "nbformat_minor": 2
}
