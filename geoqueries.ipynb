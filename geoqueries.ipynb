{
 "cells": [
  {
   "cell_type": "code",
   "execution_count": 1,
   "metadata": {},
   "outputs": [],
   "source": [
    "from pymongo import MongoClient"
   ]
  },
  {
   "cell_type": "code",
   "execution_count": 2,
   "metadata": {},
   "outputs": [],
   "source": [
    "def connectCollection(database, collection):\n",
    "    client = MongoClient()\n",
    "    db = client[database]\n",
    "    coll = db[collection]\n",
    "    return db, coll"
   ]
  },
  {
   "cell_type": "code",
   "execution_count": 3,
   "metadata": {},
   "outputs": [],
   "source": [
    "db, coll = connectCollection('datamad1019','restaurants')"
   ]
  },
  {
   "cell_type": "code",
   "execution_count": 9,
   "metadata": {},
   "outputs": [],
   "source": [
    "rest = list(coll.find({'name':\"Wendy'S\"}))"
   ]
  },
  {
   "cell_type": "code",
   "execution_count": 11,
   "metadata": {},
   "outputs": [
    {
     "name": "stdout",
     "output_type": "stream",
     "text": [
      "41\n"
     ]
    }
   ],
   "source": [
    "print(len(rest))"
   ]
  },
  {
   "cell_type": "code",
   "execution_count": 20,
   "metadata": {},
   "outputs": [
    {
     "data": {
      "text/plain": [
       "[{'$numberDouble': '-73.961704'}, {'$numberDouble': '40.662942'}]"
      ]
     },
     "execution_count": 20,
     "metadata": {},
     "output_type": "execute_result"
    }
   ],
   "source": [
    "rest[0]['address']['coord']"
   ]
  },
  {
   "cell_type": "markdown",
   "metadata": {},
   "source": [
    "## GeoJSON\n",
    "\n",
    "{ type: \"Point\", coordinates: [ 40, 5 ] }"
   ]
  },
  {
   "cell_type": "code",
   "execution_count": 25,
   "metadata": {},
   "outputs": [],
   "source": [
    "def getLocation(wendy):\n",
    "    longitude = wendy['address']['coord'][0]['$numberDouble']\n",
    "    latitude = wendy['address']['coord'][1]['$numberDouble']\n",
    "    loc = {\n",
    "        'type':'Point',\n",
    "        'coordinates':[float(longitude), float(latitude)]\n",
    "    }\n",
    "    return loc"
   ]
  },
  {
   "cell_type": "code",
   "execution_count": 29,
   "metadata": {},
   "outputs": [
    {
     "data": {
      "text/plain": [
       "{'type': 'Point', 'coordinates': [-73.961704, 40.662942]}"
      ]
     },
     "execution_count": 29,
     "metadata": {},
     "output_type": "execute_result"
    }
   ],
   "source": [
    "getLocation(rest[0])"
   ]
  },
  {
   "cell_type": "code",
   "execution_count": 34,
   "metadata": {},
   "outputs": [],
   "source": [
    "for wendy in rest:\n",
    "    value = {\"$set\": {'location':getLocation(wendy)}}\n",
    "    coll.update_one(wendy,value)\n",
    "    # <collection>.update_one(<document>,<value>)"
   ]
  },
  {
   "cell_type": "code",
   "execution_count": 38,
   "metadata": {},
   "outputs": [],
   "source": [
    "for wendy in rest:\n",
    "    value = {\"$unset\": {'address.coord':''}}\n",
    "    coll.update_one(wendy,value)\n",
    "    # <collection>.update_one(<document>,<value>)"
   ]
  },
  {
   "cell_type": "code",
   "execution_count": 39,
   "metadata": {},
   "outputs": [
    {
     "data": {
      "text/plain": [
       "{'_id': ObjectId('5dcd89ad723a472b365091eb'),\n",
       " 'address': {'building': '469',\n",
       "  'street': 'Flatbush Avenue',\n",
       "  'zipcode': '11225'},\n",
       " 'borough': 'Brooklyn',\n",
       " 'cuisine': 'Hamburgers',\n",
       " 'grades': [{'date': datetime.datetime(2014, 12, 30, 0, 0),\n",
       "   'grade': 'A',\n",
       "   'score': 8},\n",
       "  {'date': datetime.datetime(2014, 7, 1, 0, 0), 'grade': 'B', 'score': 23},\n",
       "  {'date': datetime.datetime(2013, 4, 30, 0, 0), 'grade': 'A', 'score': 12},\n",
       "  {'date': datetime.datetime(2012, 5, 8, 0, 0), 'grade': 'A', 'score': 12}],\n",
       " 'name': \"Wendy'S\",\n",
       " 'restaurant_id': '30112340',\n",
       " 'location': {'type': 'Point', 'coordinates': [-73.961704, 40.662942]}}"
      ]
     },
     "execution_count": 39,
     "metadata": {},
     "output_type": "execute_result"
    }
   ],
   "source": [
    "rest = list(coll.find({'name':\"Wendy'S\"}))\n",
    "rest[0]"
   ]
  },
  {
   "cell_type": "code",
   "execution_count": 52,
   "metadata": {},
   "outputs": [],
   "source": [
    "manhattanwendys = coll.find(\n",
    "    {\"location\":{\"$near\":\n",
    "               {\"$geometry\":{\n",
    "                   \"type\":\"Point\",\n",
    "                   \"coordinates\":[-73.9712,40.7831]\n",
    "               },\n",
    "                \"$maxDistance\":10000,\n",
    "                \"$minDistance\":5000\n",
    "               }\n",
    "               }\n",
    "    }\n",
    ")"
   ]
  },
  {
   "cell_type": "code",
   "execution_count": 53,
   "metadata": {},
   "outputs": [
    {
     "data": {
      "text/plain": [
       "9"
      ]
     },
     "execution_count": 53,
     "metadata": {},
     "output_type": "execute_result"
    }
   ],
   "source": [
    "manhattanwendys=list(manhattanwendys)\n",
    "len(manhattanwendys)"
   ]
  },
  {
   "cell_type": "code",
   "execution_count": null,
   "metadata": {},
   "outputs": [],
   "source": []
  },
  {
   "cell_type": "code",
   "execution_count": null,
   "metadata": {},
   "outputs": [],
   "source": []
  },
  {
   "cell_type": "code",
   "execution_count": null,
   "metadata": {},
   "outputs": [],
   "source": []
  }
 ],
 "metadata": {
  "kernelspec": {
   "display_name": "Python 3",
   "language": "python",
   "name": "python3"
  },
  "language_info": {
   "codemirror_mode": {
    "name": "ipython",
    "version": 3
   },
   "file_extension": ".py",
   "mimetype": "text/x-python",
   "name": "python",
   "nbconvert_exporter": "python",
   "pygments_lexer": "ipython3",
   "version": "3.7.4"
  }
 },
 "nbformat": 4,
 "nbformat_minor": 2
}
